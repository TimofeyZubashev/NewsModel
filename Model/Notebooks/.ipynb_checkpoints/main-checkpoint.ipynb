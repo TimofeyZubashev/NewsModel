{
 "cells": [
  {
   "cell_type": "code",
   "execution_count": 81,
   "id": "13b628fa",
   "metadata": {},
   "outputs": [],
   "source": [
    "import string\n",
    "from collections import defaultdict\n",
    "\n",
    "import pandas as pd\n",
    "import numpy as np\n",
    "import matplotlib.pyplot as plt\n",
    "\n",
    "import nltk\n",
    "from nltk.corpus import stopwords"
   ]
  },
  {
   "cell_type": "code",
   "execution_count": 82,
   "id": "5512aa78",
   "metadata": {},
   "outputs": [
    {
     "name": "stderr",
     "output_type": "stream",
     "text": [
      "[nltk_data] Downloading package stopwords to\n",
      "[nltk_data]     /Users/maksimmigur/nltk_data...\n",
      "[nltk_data]   Package stopwords is already up-to-date!\n"
     ]
    }
   ],
   "source": [
    "nltk.download('stopwords')\n",
    "STOPWORDS_AND_CHARS = stopwords.words('russian')\n",
    "\n",
    "COUNT_RUSSIAN_LETTERS = 33\n",
    "RUSSIAN_ALPHABET = [chr(0x0410 + index) for index in range(COUNT_RUSSIAN_LETTERS)]\n",
    "RUSSIAN_ALPHABET.extend([chr(0x0430 + index) for index in range(COUNT_RUSSIAN_LETTERS)])\n",
    "STOPWORDS_AND_CHARS.extend(string.punctuation)\n",
    "STOPWORDS_AND_CHARS.extend(RUSSIAN_ALPHABET)"
   ]
  },
  {
   "cell_type": "markdown",
   "id": "96bc73f7",
   "metadata": {},
   "source": [
    "## Загрузка данных"
   ]
  },
  {
   "cell_type": "code",
   "execution_count": 4,
   "id": "20be22aa",
   "metadata": {},
   "outputs": [],
   "source": [
    "bot_posts_df = pd.read_excel('./Data/ai_bot_app_post.xls')\n",
    "posts_df = pd.read_excel('./Data/posts (1).xlsx')"
   ]
  },
  {
   "cell_type": "markdown",
   "id": "b02faffb",
   "metadata": {},
   "source": [
    "## Информация о наборах данных"
   ]
  },
  {
   "cell_type": "code",
   "execution_count": 15,
   "id": "9db28575",
   "metadata": {},
   "outputs": [
    {
     "data": {
      "text/html": [
       "<div>\n",
       "<style scoped>\n",
       "    .dataframe tbody tr th:only-of-type {\n",
       "        vertical-align: middle;\n",
       "    }\n",
       "\n",
       "    .dataframe tbody tr th {\n",
       "        vertical-align: top;\n",
       "    }\n",
       "\n",
       "    .dataframe thead th {\n",
       "        text-align: right;\n",
       "    }\n",
       "</style>\n",
       "<table border=\"1\" class=\"dataframe\">\n",
       "  <thead>\n",
       "    <tr style=\"text-align: right;\">\n",
       "      <th></th>\n",
       "      <th>user_id</th>\n",
       "      <th>telegram_id</th>\n",
       "      <th>text</th>\n",
       "      <th>title</th>\n",
       "    </tr>\n",
       "  </thead>\n",
       "  <tbody>\n",
       "    <tr>\n",
       "      <th>0</th>\n",
       "      <td>1</td>\n",
       "      <td>157314</td>\n",
       "      <td>❗️Восстановление аммиакопровода Тольятти — Оде...</td>\n",
       "      <td>Восстановление аммиакопровода займет до 3 меся...</td>\n",
       "    </tr>\n",
       "    <tr>\n",
       "      <th>1</th>\n",
       "      <td>2</td>\n",
       "      <td>18940</td>\n",
       "      <td>Дополнительные 39 миллионов рублей были выделе...</td>\n",
       "      <td>Выделены дополнительные 39 млн рублей на соцуч...</td>\n",
       "    </tr>\n",
       "    <tr>\n",
       "      <th>2</th>\n",
       "      <td>3</td>\n",
       "      <td>4868</td>\n",
       "      <td>«Россия уничтожена санкциями»\\n               ...</td>\n",
       "      <td>«Россия уничтожена санкциями»\\n               ...</td>\n",
       "    </tr>\n",
       "    <tr>\n",
       "      <th>3</th>\n",
       "      <td>4</td>\n",
       "      <td>157315</td>\n",
       "      <td>❗️Правоохранители провели обыски в министерств...</td>\n",
       "      <td>Обыски в минобразования Дагестана по делу о вы...</td>\n",
       "    </tr>\n",
       "    <tr>\n",
       "      <th>4</th>\n",
       "      <td>16</td>\n",
       "      <td>157317</td>\n",
       "      <td>Реконструкция пропускного пункта \"Верхний Ларс...</td>\n",
       "      <td>Реконструкция пропускного пункта \"Верхний Ларс...</td>\n",
       "    </tr>\n",
       "  </tbody>\n",
       "</table>\n",
       "</div>"
      ],
      "text/plain": [
       "   user_id  telegram_id                                               text  \\\n",
       "0        1       157314  ❗️Восстановление аммиакопровода Тольятти — Оде...   \n",
       "1        2        18940  Дополнительные 39 миллионов рублей были выделе...   \n",
       "2        3         4868  «Россия уничтожена санкциями»\\n               ...   \n",
       "3        4       157315  ❗️Правоохранители провели обыски в министерств...   \n",
       "4       16       157317  Реконструкция пропускного пункта \"Верхний Ларс...   \n",
       "\n",
       "                                               title  \n",
       "0  Восстановление аммиакопровода займет до 3 меся...  \n",
       "1  Выделены дополнительные 39 млн рублей на соцуч...  \n",
       "2  «Россия уничтожена санкциями»\\n               ...  \n",
       "3  Обыски в минобразования Дагестана по делу о вы...  \n",
       "4  Реконструкция пропускного пункта \"Верхний Ларс...  "
      ]
     },
     "execution_count": 15,
     "metadata": {},
     "output_type": "execute_result"
    }
   ],
   "source": [
    "bot_posts_df.head()"
   ]
  },
  {
   "cell_type": "code",
   "execution_count": 16,
   "id": "2d29f12e",
   "metadata": {},
   "outputs": [
    {
     "data": {
      "text/html": [
       "<div>\n",
       "<style scoped>\n",
       "    .dataframe tbody tr th:only-of-type {\n",
       "        vertical-align: middle;\n",
       "    }\n",
       "\n",
       "    .dataframe tbody tr th {\n",
       "        vertical-align: top;\n",
       "    }\n",
       "\n",
       "    .dataframe thead th {\n",
       "        text-align: right;\n",
       "    }\n",
       "</style>\n",
       "<table border=\"1\" class=\"dataframe\">\n",
       "  <thead>\n",
       "    <tr style=\"text-align: right;\">\n",
       "      <th></th>\n",
       "      <th>id</th>\n",
       "      <th>telegram_id</th>\n",
       "      <th>text</th>\n",
       "      <th>datetime</th>\n",
       "      <th>channel_id</th>\n",
       "      <th>title</th>\n",
       "    </tr>\n",
       "  </thead>\n",
       "  <tbody>\n",
       "    <tr>\n",
       "      <th>0</th>\n",
       "      <td>1</td>\n",
       "      <td>157314</td>\n",
       "      <td>❗️Восстановление аммиакопровода Тольятти — Оде...</td>\n",
       "      <td>2023-06-07 11:40:06</td>\n",
       "      <td>-1001394050290</td>\n",
       "      <td>Восстановление аммиакопровода займет до 3 меся...</td>\n",
       "    </tr>\n",
       "    <tr>\n",
       "      <th>1</th>\n",
       "      <td>2</td>\n",
       "      <td>18940</td>\n",
       "      <td>Дополнительные 39 миллионов рублей были выделе...</td>\n",
       "      <td>2023-06-07 11:34:56</td>\n",
       "      <td>-1001098860759</td>\n",
       "      <td>Выделены дополнительные 39 млн рублей на соцуч...</td>\n",
       "    </tr>\n",
       "    <tr>\n",
       "      <th>2</th>\n",
       "      <td>3</td>\n",
       "      <td>4868</td>\n",
       "      <td>«Россия уничтожена санкциями»\\n               ...</td>\n",
       "      <td>2023-06-07 11:03:05</td>\n",
       "      <td>-1001797434593</td>\n",
       "      <td>«Россия уничтожена санкциями»\\n               ...</td>\n",
       "    </tr>\n",
       "    <tr>\n",
       "      <th>3</th>\n",
       "      <td>4</td>\n",
       "      <td>157315</td>\n",
       "      <td>❗️Правоохранители провели обыски в министерств...</td>\n",
       "      <td>2023-06-07 11:50:06</td>\n",
       "      <td>-1001394050290</td>\n",
       "      <td>Обыски в минобразования Дагестана по делу о вы...</td>\n",
       "    </tr>\n",
       "    <tr>\n",
       "      <th>4</th>\n",
       "      <td>16</td>\n",
       "      <td>157317</td>\n",
       "      <td>Реконструкция пропускного пункта \"Верхний Ларс...</td>\n",
       "      <td>2023-06-07 12:10:25</td>\n",
       "      <td>-1001394050290</td>\n",
       "      <td>Реконструкция пропускного пункта \"Верхний Ларс...</td>\n",
       "    </tr>\n",
       "  </tbody>\n",
       "</table>\n",
       "</div>"
      ],
      "text/plain": [
       "   id telegram_id                                               text  \\\n",
       "0   1      157314  ❗️Восстановление аммиакопровода Тольятти — Оде...   \n",
       "1   2       18940  Дополнительные 39 миллионов рублей были выделе...   \n",
       "2   3        4868  «Россия уничтожена санкциями»\\n               ...   \n",
       "3   4      157315  ❗️Правоохранители провели обыски в министерств...   \n",
       "4  16      157317  Реконструкция пропускного пункта \"Верхний Ларс...   \n",
       "\n",
       "              datetime      channel_id  \\\n",
       "0  2023-06-07 11:40:06  -1001394050290   \n",
       "1  2023-06-07 11:34:56  -1001098860759   \n",
       "2  2023-06-07 11:03:05  -1001797434593   \n",
       "3  2023-06-07 11:50:06  -1001394050290   \n",
       "4  2023-06-07 12:10:25  -1001394050290   \n",
       "\n",
       "                                               title  \n",
       "0  Восстановление аммиакопровода займет до 3 меся...  \n",
       "1  Выделены дополнительные 39 млн рублей на соцуч...  \n",
       "2  «Россия уничтожена санкциями»\\n               ...  \n",
       "3  Обыски в минобразования Дагестана по делу о вы...  \n",
       "4  Реконструкция пропускного пункта \"Верхний Ларс...  "
      ]
     },
     "execution_count": 16,
     "metadata": {},
     "output_type": "execute_result"
    }
   ],
   "source": [
    "posts_df.head()"
   ]
  },
  {
   "cell_type": "code",
   "execution_count": 17,
   "id": "cb785173",
   "metadata": {},
   "outputs": [
    {
     "name": "stdout",
     "output_type": "stream",
     "text": [
      "<class 'pandas.core.frame.DataFrame'>\n",
      "RangeIndex: 88182 entries, 0 to 88181\n",
      "Data columns (total 4 columns):\n",
      " #   Column       Non-Null Count  Dtype \n",
      "---  ------       --------------  ----- \n",
      " 0   user_id      88182 non-null  int64 \n",
      " 1   telegram_id  88182 non-null  int64 \n",
      " 2   text         88178 non-null  object\n",
      " 3   title        88177 non-null  object\n",
      "dtypes: int64(2), object(2)\n",
      "memory usage: 2.7+ MB\n"
     ]
    }
   ],
   "source": [
    "bot_posts_df.info()"
   ]
  },
  {
   "cell_type": "code",
   "execution_count": 18,
   "id": "a67a8c5e",
   "metadata": {},
   "outputs": [
    {
     "name": "stdout",
     "output_type": "stream",
     "text": [
      "<class 'pandas.core.frame.DataFrame'>\n",
      "RangeIndex: 169881 entries, 0 to 169880\n",
      "Data columns (total 6 columns):\n",
      " #   Column       Non-Null Count   Dtype \n",
      "---  ------       --------------   ----- \n",
      " 0   id           169881 non-null  object\n",
      " 1   telegram_id  169880 non-null  object\n",
      " 2   text         169871 non-null  object\n",
      " 3   datetime     169871 non-null  object\n",
      " 4   channel_id   169863 non-null  object\n",
      " 5   title        169848 non-null  object\n",
      "dtypes: object(6)\n",
      "memory usage: 7.8+ MB\n"
     ]
    }
   ],
   "source": [
    "posts_df.info()"
   ]
  },
  {
   "cell_type": "markdown",
   "id": "f689a743",
   "metadata": {},
   "source": [
    "## Предобработка текста"
   ]
  },
  {
   "cell_type": "markdown",
   "id": "fc80eb72",
   "metadata": {},
   "source": [
    "Удалим не нужные столбцы, которые не имею смысла."
   ]
  },
  {
   "cell_type": "code",
   "execution_count": 33,
   "id": "c5c41a9d",
   "metadata": {},
   "outputs": [],
   "source": [
    "posts_df = posts_df[[\n",
    "    'id', \n",
    "    'telegram_id', \n",
    "    'text', 'datetime', \n",
    "    'channel_id', \n",
    "    'title']\n",
    "]"
   ]
  },
  {
   "cell_type": "code",
   "execution_count": 99,
   "id": "d5b43a38",
   "metadata": {},
   "outputs": [],
   "source": [
    "def remove_digits(text: str) -> list:\n",
    "    return ''.join([word for word in text if (word not in string.punctuation) and (word not in string.digits)])\n",
    "\n",
    "def remove_stop_words(text: str, stopwords=STOPWORDS_AND_CHARS) -> list:\n",
    "    return ' '.join([word for word in text.split(' ') if word not in stopwords])\n",
    "\n",
    "def lemmatize(text):\n",
    "    pass\n",
    "\n",
    "def prepocessing(text):\n",
    "    pass"
   ]
  },
  {
   "cell_type": "markdown",
   "id": "9efc9545",
   "metadata": {},
   "source": [
    "## Первичный анализ данных (EDA)"
   ]
  },
  {
   "cell_type": "markdown",
   "id": "6fac364d",
   "metadata": {},
   "source": [
    "Выведим списки униграмм, биграмм, триграмм."
   ]
  },
  {
   "cell_type": "code",
   "execution_count": null,
   "id": "55fe2fb6",
   "metadata": {},
   "outputs": [],
   "source": []
  }
 ],
 "metadata": {
  "kernelspec": {
   "display_name": "Python 3 (ipykernel)",
   "language": "python",
   "name": "python3"
  },
  "language_info": {
   "codemirror_mode": {
    "name": "ipython",
    "version": 3
   },
   "file_extension": ".py",
   "mimetype": "text/x-python",
   "name": "python",
   "nbconvert_exporter": "python",
   "pygments_lexer": "ipython3",
   "version": "3.10.8"
  }
 },
 "nbformat": 4,
 "nbformat_minor": 5
}

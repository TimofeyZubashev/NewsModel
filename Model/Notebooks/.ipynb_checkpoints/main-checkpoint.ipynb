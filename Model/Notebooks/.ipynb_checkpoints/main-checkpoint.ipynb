{
 "cells": [
  {
   "cell_type": "code",
   "execution_count": 12,
   "id": "13b628fa",
   "metadata": {},
   "outputs": [],
   "source": [
    "import string\n",
    "from collections import defaultdict\n",
    "\n",
    "import pandas as pd\n",
    "import numpy as np\n",
    "import matplotlib.pyplot as plt\n",
    "\n",
    "import nltk\n",
    "from nltk.corpus import stopwords\n",
    "from nltk.tokenize import sent_tokenize"
   ]
  },
  {
   "cell_type": "code",
   "execution_count": 2,
   "id": "5512aa78",
   "metadata": {},
   "outputs": [
    {
     "name": "stderr",
     "output_type": "stream",
     "text": [
      "[nltk_data] Downloading package stopwords to\n",
      "[nltk_data]     /Users/maksimmigur/nltk_data...\n",
      "[nltk_data]   Package stopwords is already up-to-date!\n"
     ]
    }
   ],
   "source": [
    "nltk.download('stopwords')\n",
    "STOPWORDS_AND_CHARS = stopwords.words('russian')\n",
    "\n",
    "COUNT_RUSSIAN_LETTERS = 33\n",
    "RUSSIAN_ALPHABET = [chr(0x0410 + index) for index in range(COUNT_RUSSIAN_LETTERS)]\n",
    "RUSSIAN_ALPHABET.extend([chr(0x0430 + index) for index in range(COUNT_RUSSIAN_LETTERS)])\n",
    "STOPWORDS_AND_CHARS.extend(string.punctuation)\n",
    "STOPWORDS_AND_CHARS.extend(RUSSIAN_ALPHABET)"
   ]
  },
  {
   "cell_type": "markdown",
   "id": "96bc73f7",
   "metadata": {},
   "source": [
    "## Загрузка данных"
   ]
  },
  {
   "cell_type": "code",
   "execution_count": 3,
   "id": "20be22aa",
   "metadata": {},
   "outputs": [],
   "source": [
    "bot_posts_df = pd.read_excel('./Data/ai_bot_app_post.xls')\n",
    "posts_df = pd.read_excel('./Data/posts (1).xlsx')"
   ]
  },
  {
   "cell_type": "markdown",
   "id": "b02faffb",
   "metadata": {},
   "source": [
    "## Информация о наборах данных"
   ]
  },
  {
   "cell_type": "code",
   "execution_count": 4,
   "id": "9db28575",
   "metadata": {},
   "outputs": [
    {
     "data": {
      "text/html": [
       "<div>\n",
       "<style scoped>\n",
       "    .dataframe tbody tr th:only-of-type {\n",
       "        vertical-align: middle;\n",
       "    }\n",
       "\n",
       "    .dataframe tbody tr th {\n",
       "        vertical-align: top;\n",
       "    }\n",
       "\n",
       "    .dataframe thead th {\n",
       "        text-align: right;\n",
       "    }\n",
       "</style>\n",
       "<table border=\"1\" class=\"dataframe\">\n",
       "  <thead>\n",
       "    <tr style=\"text-align: right;\">\n",
       "      <th></th>\n",
       "      <th>user_id</th>\n",
       "      <th>telegram_id</th>\n",
       "      <th>text</th>\n",
       "      <th>title</th>\n",
       "    </tr>\n",
       "  </thead>\n",
       "  <tbody>\n",
       "    <tr>\n",
       "      <th>0</th>\n",
       "      <td>1</td>\n",
       "      <td>157314</td>\n",
       "      <td>❗️Восстановление аммиакопровода Тольятти — Оде...</td>\n",
       "      <td>Восстановление аммиакопровода займет до 3 меся...</td>\n",
       "    </tr>\n",
       "    <tr>\n",
       "      <th>1</th>\n",
       "      <td>2</td>\n",
       "      <td>18940</td>\n",
       "      <td>Дополнительные 39 миллионов рублей были выделе...</td>\n",
       "      <td>Выделены дополнительные 39 млн рублей на соцуч...</td>\n",
       "    </tr>\n",
       "    <tr>\n",
       "      <th>2</th>\n",
       "      <td>3</td>\n",
       "      <td>4868</td>\n",
       "      <td>«Россия уничтожена санкциями»\\n               ...</td>\n",
       "      <td>«Россия уничтожена санкциями»\\n               ...</td>\n",
       "    </tr>\n",
       "    <tr>\n",
       "      <th>3</th>\n",
       "      <td>4</td>\n",
       "      <td>157315</td>\n",
       "      <td>❗️Правоохранители провели обыски в министерств...</td>\n",
       "      <td>Обыски в минобразования Дагестана по делу о вы...</td>\n",
       "    </tr>\n",
       "    <tr>\n",
       "      <th>4</th>\n",
       "      <td>16</td>\n",
       "      <td>157317</td>\n",
       "      <td>Реконструкция пропускного пункта \"Верхний Ларс...</td>\n",
       "      <td>Реконструкция пропускного пункта \"Верхний Ларс...</td>\n",
       "    </tr>\n",
       "  </tbody>\n",
       "</table>\n",
       "</div>"
      ],
      "text/plain": [
       "   user_id  telegram_id                                               text  \\\n",
       "0        1       157314  ❗️Восстановление аммиакопровода Тольятти — Оде...   \n",
       "1        2        18940  Дополнительные 39 миллионов рублей были выделе...   \n",
       "2        3         4868  «Россия уничтожена санкциями»\\n               ...   \n",
       "3        4       157315  ❗️Правоохранители провели обыски в министерств...   \n",
       "4       16       157317  Реконструкция пропускного пункта \"Верхний Ларс...   \n",
       "\n",
       "                                               title  \n",
       "0  Восстановление аммиакопровода займет до 3 меся...  \n",
       "1  Выделены дополнительные 39 млн рублей на соцуч...  \n",
       "2  «Россия уничтожена санкциями»\\n               ...  \n",
       "3  Обыски в минобразования Дагестана по делу о вы...  \n",
       "4  Реконструкция пропускного пункта \"Верхний Ларс...  "
      ]
     },
     "execution_count": 4,
     "metadata": {},
     "output_type": "execute_result"
    }
   ],
   "source": [
    "bot_posts_df.head()"
   ]
  },
  {
   "cell_type": "code",
   "execution_count": 5,
   "id": "2d29f12e",
   "metadata": {},
   "outputs": [
    {
     "data": {
      "text/html": [
       "<div>\n",
       "<style scoped>\n",
       "    .dataframe tbody tr th:only-of-type {\n",
       "        vertical-align: middle;\n",
       "    }\n",
       "\n",
       "    .dataframe tbody tr th {\n",
       "        vertical-align: top;\n",
       "    }\n",
       "\n",
       "    .dataframe thead th {\n",
       "        text-align: right;\n",
       "    }\n",
       "</style>\n",
       "<table border=\"1\" class=\"dataframe\">\n",
       "  <thead>\n",
       "    <tr style=\"text-align: right;\">\n",
       "      <th></th>\n",
       "      <th>id</th>\n",
       "      <th>telegram_id</th>\n",
       "      <th>text</th>\n",
       "      <th>datetime</th>\n",
       "      <th>category_id</th>\n",
       "      <th>channel_id</th>\n",
       "      <th>title</th>\n",
       "      <th>Unnamed: 7</th>\n",
       "      <th>Unnamed: 8</th>\n",
       "      <th>Unnamed: 9</th>\n",
       "    </tr>\n",
       "  </thead>\n",
       "  <tbody>\n",
       "    <tr>\n",
       "      <th>0</th>\n",
       "      <td>1</td>\n",
       "      <td>157314</td>\n",
       "      <td>❗️Восстановление аммиакопровода Тольятти — Оде...</td>\n",
       "      <td>2023-06-07 11:40:06</td>\n",
       "      <td>NaN</td>\n",
       "      <td>-1001394050290</td>\n",
       "      <td>Восстановление аммиакопровода займет до 3 меся...</td>\n",
       "      <td>NaN</td>\n",
       "      <td>NaN</td>\n",
       "      <td>NaN</td>\n",
       "    </tr>\n",
       "    <tr>\n",
       "      <th>1</th>\n",
       "      <td>2</td>\n",
       "      <td>18940</td>\n",
       "      <td>Дополнительные 39 миллионов рублей были выделе...</td>\n",
       "      <td>2023-06-07 11:34:56</td>\n",
       "      <td>NaN</td>\n",
       "      <td>-1001098860759</td>\n",
       "      <td>Выделены дополнительные 39 млн рублей на соцуч...</td>\n",
       "      <td>NaN</td>\n",
       "      <td>NaN</td>\n",
       "      <td>NaN</td>\n",
       "    </tr>\n",
       "    <tr>\n",
       "      <th>2</th>\n",
       "      <td>3</td>\n",
       "      <td>4868</td>\n",
       "      <td>«Россия уничтожена санкциями»\\n               ...</td>\n",
       "      <td>2023-06-07 11:03:05</td>\n",
       "      <td>NaN</td>\n",
       "      <td>-1001797434593</td>\n",
       "      <td>«Россия уничтожена санкциями»\\n               ...</td>\n",
       "      <td>NaN</td>\n",
       "      <td>NaN</td>\n",
       "      <td>NaN</td>\n",
       "    </tr>\n",
       "    <tr>\n",
       "      <th>3</th>\n",
       "      <td>4</td>\n",
       "      <td>157315</td>\n",
       "      <td>❗️Правоохранители провели обыски в министерств...</td>\n",
       "      <td>2023-06-07 11:50:06</td>\n",
       "      <td>NaN</td>\n",
       "      <td>-1001394050290</td>\n",
       "      <td>Обыски в минобразования Дагестана по делу о вы...</td>\n",
       "      <td>NaN</td>\n",
       "      <td>NaN</td>\n",
       "      <td>NaN</td>\n",
       "    </tr>\n",
       "    <tr>\n",
       "      <th>4</th>\n",
       "      <td>16</td>\n",
       "      <td>157317</td>\n",
       "      <td>Реконструкция пропускного пункта \"Верхний Ларс...</td>\n",
       "      <td>2023-06-07 12:10:25</td>\n",
       "      <td>NaN</td>\n",
       "      <td>-1001394050290</td>\n",
       "      <td>Реконструкция пропускного пункта \"Верхний Ларс...</td>\n",
       "      <td>NaN</td>\n",
       "      <td>NaN</td>\n",
       "      <td>NaN</td>\n",
       "    </tr>\n",
       "  </tbody>\n",
       "</table>\n",
       "</div>"
      ],
      "text/plain": [
       "   id telegram_id                                               text  \\\n",
       "0   1      157314  ❗️Восстановление аммиакопровода Тольятти — Оде...   \n",
       "1   2       18940  Дополнительные 39 миллионов рублей были выделе...   \n",
       "2   3        4868  «Россия уничтожена санкциями»\\n               ...   \n",
       "3   4      157315  ❗️Правоохранители провели обыски в министерств...   \n",
       "4  16      157317  Реконструкция пропускного пункта \"Верхний Ларс...   \n",
       "\n",
       "              datetime category_id      channel_id  \\\n",
       "0  2023-06-07 11:40:06         NaN  -1001394050290   \n",
       "1  2023-06-07 11:34:56         NaN  -1001098860759   \n",
       "2  2023-06-07 11:03:05         NaN  -1001797434593   \n",
       "3  2023-06-07 11:50:06         NaN  -1001394050290   \n",
       "4  2023-06-07 12:10:25         NaN  -1001394050290   \n",
       "\n",
       "                                               title Unnamed: 7 Unnamed: 8  \\\n",
       "0  Восстановление аммиакопровода займет до 3 меся...        NaN        NaN   \n",
       "1  Выделены дополнительные 39 млн рублей на соцуч...        NaN        NaN   \n",
       "2  «Россия уничтожена санкциями»\\n               ...        NaN        NaN   \n",
       "3  Обыски в минобразования Дагестана по делу о вы...        NaN        NaN   \n",
       "4  Реконструкция пропускного пункта \"Верхний Ларс...        NaN        NaN   \n",
       "\n",
       "  Unnamed: 9  \n",
       "0        NaN  \n",
       "1        NaN  \n",
       "2        NaN  \n",
       "3        NaN  \n",
       "4        NaN  "
      ]
     },
     "execution_count": 5,
     "metadata": {},
     "output_type": "execute_result"
    }
   ],
   "source": [
    "posts_df.head()"
   ]
  },
  {
   "cell_type": "code",
   "execution_count": 6,
   "id": "cb785173",
   "metadata": {},
   "outputs": [
    {
     "name": "stdout",
     "output_type": "stream",
     "text": [
      "<class 'pandas.core.frame.DataFrame'>\n",
      "RangeIndex: 88182 entries, 0 to 88181\n",
      "Data columns (total 4 columns):\n",
      " #   Column       Non-Null Count  Dtype \n",
      "---  ------       --------------  ----- \n",
      " 0   user_id      88182 non-null  int64 \n",
      " 1   telegram_id  88182 non-null  int64 \n",
      " 2   text         88178 non-null  object\n",
      " 3   title        88177 non-null  object\n",
      "dtypes: int64(2), object(2)\n",
      "memory usage: 2.7+ MB\n"
     ]
    }
   ],
   "source": [
    "bot_posts_df.info()"
   ]
  },
  {
   "cell_type": "code",
   "execution_count": 7,
   "id": "a67a8c5e",
   "metadata": {},
   "outputs": [
    {
     "name": "stdout",
     "output_type": "stream",
     "text": [
      "<class 'pandas.core.frame.DataFrame'>\n",
      "RangeIndex: 169881 entries, 0 to 169880\n",
      "Data columns (total 10 columns):\n",
      " #   Column       Non-Null Count   Dtype \n",
      "---  ------       --------------   ----- \n",
      " 0   id           169881 non-null  object\n",
      " 1   telegram_id  169880 non-null  object\n",
      " 2   text         169871 non-null  object\n",
      " 3   datetime     169871 non-null  object\n",
      " 4   category_id  21 non-null      object\n",
      " 5   channel_id   169863 non-null  object\n",
      " 6   title        169848 non-null  object\n",
      " 7   Unnamed: 7   2 non-null       object\n",
      " 8   Unnamed: 8   2 non-null       object\n",
      " 9   Unnamed: 9   1 non-null       object\n",
      "dtypes: object(10)\n",
      "memory usage: 13.0+ MB\n"
     ]
    }
   ],
   "source": [
    "posts_df.info()"
   ]
  },
  {
   "cell_type": "markdown",
   "id": "f689a743",
   "metadata": {},
   "source": [
    "## Предобработка текста"
   ]
  },
  {
   "cell_type": "markdown",
   "id": "d56e4a07",
   "metadata": {},
   "source": [
    "Этапы обработки текста:\n",
    "* Удаление символов(пунктуации, буквы которые в предложение стоят по одиночке).\n",
    "* Удаление стоп слов\n",
    "* Приведение слов к номральной форме\n",
    "* Токетизация\n",
    "* Векторизация"
   ]
  },
  {
   "cell_type": "markdown",
   "id": "fc80eb72",
   "metadata": {},
   "source": [
    "Удалим не нужные столбцы, которые не имею смысла."
   ]
  },
  {
   "cell_type": "code",
   "execution_count": 8,
   "id": "c5c41a9d",
   "metadata": {},
   "outputs": [],
   "source": [
    "posts_df = posts_df[[\n",
    "    'id', \n",
    "    'telegram_id', \n",
    "    'text', 'datetime', \n",
    "    'channel_id', \n",
    "    'title']\n",
    "]"
   ]
  },
  {
   "cell_type": "markdown",
   "id": "1adabad7",
   "metadata": {},
   "source": [
    "Напишем функции для обработки текстов."
   ]
  },
  {
   "cell_type": "code",
   "execution_count": 11,
   "id": "d5b43a38",
   "metadata": {},
   "outputs": [],
   "source": [
    "def remove_digits(text: str) -> list:\n",
    "    return ''.join([word for word in text if (word not in string.punctuation) and (word not in string.digits)])\n",
    "\n",
    "def remove_stop_words(text: str, stopwords=STOPWORDS_AND_CHARS) -> list:\n",
    "    return ' '.join([word for word in text.split(' ') if word not in stopwords])\n",
    "\n",
    "def lemmatize(text):\n",
    "    pymorphy2_analyzer = MorphAnalyzer()\n",
    "    return \" \".join([pymorphy2_analyzer.parse(word)[0].normal_form for word in text.split(' ')]).strip()"
   ]
  },
  {
   "cell_type": "code",
   "execution_count": 13,
   "id": "15d6e22a",
   "metadata": {},
   "outputs": [],
   "source": [
    "def tokenize(text):\n",
    "    return sent_tokenize(text)"
   ]
  },
  {
   "cell_type": "markdown",
   "id": "09437a5e",
   "metadata": {},
   "source": [
    "## Первичный анализ данных (EDA)"
   ]
  },
  {
   "cell_type": "markdown",
   "id": "6fac364d",
   "metadata": {},
   "source": [
    "Выведим списки униграмм, биграмм, триграмм."
   ]
  },
  {
   "cell_type": "code",
   "execution_count": null,
   "id": "a8ac0392",
   "metadata": {},
   "outputs": [],
   "source": []
  }
 ],
 "metadata": {
  "kernelspec": {
   "display_name": "Python 3 (ipykernel)",
   "language": "python",
   "name": "python3"
  },
  "language_info": {
   "codemirror_mode": {
    "name": "ipython",
    "version": 3
   },
   "file_extension": ".py",
   "mimetype": "text/x-python",
   "name": "python",
   "nbconvert_exporter": "python",
   "pygments_lexer": "ipython3",
   "version": "3.10.8"
  }
 },
 "nbformat": 4,
 "nbformat_minor": 5
}
